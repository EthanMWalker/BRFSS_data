{
 "cells": [
  {
   "cell_type": "code",
   "execution_count": 2,
   "metadata": {},
   "outputs": [],
   "source": [
    "import pandas as pd\n",
    "import xport.v56\n",
    "import numpy as np"
   ]
  },
  {
   "cell_type": "code",
   "execution_count": 14,
   "metadata": {},
   "outputs": [
    {
     "output_type": "execute_result",
     "data": {
      "text/plain": "        _STATE  FMONTH        IDATE IMONTH   IDAY    IYEAR  DISPCODE  \\\n418329    54.0     9.0  b'09072018'  b'09'  b'07'  b'2018'    1100.0   \n132083    20.0     9.0  b'10012018'  b'10'  b'01'  b'2018'    1100.0   \n428778    56.0     4.0  b'05222018'  b'05'  b'22'  b'2018'    1200.0   \n111000    18.0     7.0  b'07112018'  b'07'  b'11'  b'2018'    1100.0   \n279355    36.0     9.0  b'09142018'  b'09'  b'14'  b'2018'    1100.0   \n\n                SEQNO          _PSU  CTELENM1  ...  _MAM5022  _RFPAP34  \\\n418329  b'2018001891'  2.018002e+09       1.0  ...       NaN       NaN   \n132083  b'2018009778'  2.018010e+09       NaN  ...       NaN       NaN   \n428778  b'2018000007'  2.018000e+09       NaN  ...       NaN       NaN   \n111000  b'2018005583'  2.018006e+09       NaN  ...       NaN       2.0   \n279355  b'2018019401'  2.018019e+09       NaN  ...       NaN       NaN   \n\n        _RFPSA22  _RFBLDS3  _COL10YR  _HFOB3YR  _FS5YR  _FOBTFS  _CRCREC  \\\n418329       1.0       1.0       1.0       1.0     NaN      NaN      1.0   \n132083       NaN       NaN       NaN       NaN     NaN      NaN      NaN   \n428778       2.0       2.0       2.0       2.0     2.0      2.0      2.0   \n111000       NaN       NaN       NaN       NaN     NaN      NaN      NaN   \n279355       NaN       NaN       NaN       NaN     NaN      NaN      NaN   \n\n        _AIDTST3  \n418329       2.0  \n132083       1.0  \n428778       1.0  \n111000       2.0  \n279355       2.0  \n\n[5 rows x 275 columns]",
      "text/html": "<div>\n<style scoped>\n    .dataframe tbody tr th:only-of-type {\n        vertical-align: middle;\n    }\n\n    .dataframe tbody tr th {\n        vertical-align: top;\n    }\n\n    .dataframe thead th {\n        text-align: right;\n    }\n</style>\n<table border=\"1\" class=\"dataframe\">\n  <thead>\n    <tr style=\"text-align: right;\">\n      <th></th>\n      <th>_STATE</th>\n      <th>FMONTH</th>\n      <th>IDATE</th>\n      <th>IMONTH</th>\n      <th>IDAY</th>\n      <th>IYEAR</th>\n      <th>DISPCODE</th>\n      <th>SEQNO</th>\n      <th>_PSU</th>\n      <th>CTELENM1</th>\n      <th>...</th>\n      <th>_MAM5022</th>\n      <th>_RFPAP34</th>\n      <th>_RFPSA22</th>\n      <th>_RFBLDS3</th>\n      <th>_COL10YR</th>\n      <th>_HFOB3YR</th>\n      <th>_FS5YR</th>\n      <th>_FOBTFS</th>\n      <th>_CRCREC</th>\n      <th>_AIDTST3</th>\n    </tr>\n  </thead>\n  <tbody>\n    <tr>\n      <th>418329</th>\n      <td>54.0</td>\n      <td>9.0</td>\n      <td>b'09072018'</td>\n      <td>b'09'</td>\n      <td>b'07'</td>\n      <td>b'2018'</td>\n      <td>1100.0</td>\n      <td>b'2018001891'</td>\n      <td>2.018002e+09</td>\n      <td>1.0</td>\n      <td>...</td>\n      <td>NaN</td>\n      <td>NaN</td>\n      <td>1.0</td>\n      <td>1.0</td>\n      <td>1.0</td>\n      <td>1.0</td>\n      <td>NaN</td>\n      <td>NaN</td>\n      <td>1.0</td>\n      <td>2.0</td>\n    </tr>\n    <tr>\n      <th>132083</th>\n      <td>20.0</td>\n      <td>9.0</td>\n      <td>b'10012018'</td>\n      <td>b'10'</td>\n      <td>b'01'</td>\n      <td>b'2018'</td>\n      <td>1100.0</td>\n      <td>b'2018009778'</td>\n      <td>2.018010e+09</td>\n      <td>NaN</td>\n      <td>...</td>\n      <td>NaN</td>\n      <td>NaN</td>\n      <td>NaN</td>\n      <td>NaN</td>\n      <td>NaN</td>\n      <td>NaN</td>\n      <td>NaN</td>\n      <td>NaN</td>\n      <td>NaN</td>\n      <td>1.0</td>\n    </tr>\n    <tr>\n      <th>428778</th>\n      <td>56.0</td>\n      <td>4.0</td>\n      <td>b'05222018'</td>\n      <td>b'05'</td>\n      <td>b'22'</td>\n      <td>b'2018'</td>\n      <td>1200.0</td>\n      <td>b'2018000007'</td>\n      <td>2.018000e+09</td>\n      <td>NaN</td>\n      <td>...</td>\n      <td>NaN</td>\n      <td>NaN</td>\n      <td>2.0</td>\n      <td>2.0</td>\n      <td>2.0</td>\n      <td>2.0</td>\n      <td>2.0</td>\n      <td>2.0</td>\n      <td>2.0</td>\n      <td>1.0</td>\n    </tr>\n    <tr>\n      <th>111000</th>\n      <td>18.0</td>\n      <td>7.0</td>\n      <td>b'07112018'</td>\n      <td>b'07'</td>\n      <td>b'11'</td>\n      <td>b'2018'</td>\n      <td>1100.0</td>\n      <td>b'2018005583'</td>\n      <td>2.018006e+09</td>\n      <td>NaN</td>\n      <td>...</td>\n      <td>NaN</td>\n      <td>2.0</td>\n      <td>NaN</td>\n      <td>NaN</td>\n      <td>NaN</td>\n      <td>NaN</td>\n      <td>NaN</td>\n      <td>NaN</td>\n      <td>NaN</td>\n      <td>2.0</td>\n    </tr>\n    <tr>\n      <th>279355</th>\n      <td>36.0</td>\n      <td>9.0</td>\n      <td>b'09142018'</td>\n      <td>b'09'</td>\n      <td>b'14'</td>\n      <td>b'2018'</td>\n      <td>1100.0</td>\n      <td>b'2018019401'</td>\n      <td>2.018019e+09</td>\n      <td>NaN</td>\n      <td>...</td>\n      <td>NaN</td>\n      <td>NaN</td>\n      <td>NaN</td>\n      <td>NaN</td>\n      <td>NaN</td>\n      <td>NaN</td>\n      <td>NaN</td>\n      <td>NaN</td>\n      <td>NaN</td>\n      <td>2.0</td>\n    </tr>\n  </tbody>\n</table>\n<p>5 rows × 275 columns</p>\n</div>"
     },
     "metadata": {},
     "execution_count": 14
    }
   ],
   "source": [
    "df = pd.read_sas('LLCP2018.XPT ', format='xport')\n",
    "df.sample(5)"
   ]
  },
  {
   "cell_type": "code",
   "execution_count": 5,
   "metadata": {},
   "outputs": [
    {
     "output_type": "stream",
     "name": "stdout",
     "text": "\u001b[31mLLCP2018.ASC \u001b[m\u001b[m   LLCP2018XPT.zip data.py         test.txt\nLLCP2018ASC.zip Untitled.ipynb  \u001b[31mdrug_data.xpt \u001b[m\u001b[m\n"
    }
   ],
   "source": [
    "nv_mask = df._STATE == 32.\n",
    "use_mask = df.MARIJAN1 < 77\n",
    "white = df._IMPRACE == 1\n",
    "black = df._IMPRACE == 2\n",
    "df[nv_mask & black].MARIJAN1.sample(5)"
   ]
  },
  {
   "cell_type": "code",
   "execution_count": null,
   "metadata": {},
   "outputs": [],
   "source": []
  }
 ],
 "metadata": {
  "language_info": {
   "codemirror_mode": {
    "name": "ipython",
    "version": 3
   },
   "file_extension": ".py",
   "mimetype": "text/x-python",
   "name": "python",
   "nbconvert_exporter": "python",
   "pygments_lexer": "ipython3",
   "version": 3
  },
  "orig_nbformat": 2,
  "kernelspec": {
   "name": "python_defaultSpec_1596170865652",
   "display_name": "Python 3.7.7 64-bit"
  }
 },
 "nbformat": 4,
 "nbformat_minor": 2
}