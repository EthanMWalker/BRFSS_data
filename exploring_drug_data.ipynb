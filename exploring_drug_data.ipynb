{
 "cells": [
  {
   "cell_type": "code",
   "execution_count": 3,
   "metadata": {},
   "outputs": [],
   "source": [
    "import pandas as pd\n",
    "import numpy as np"
   ]
  },
  {
   "cell_type": "code",
   "execution_count": 6,
   "metadata": {},
   "outputs": [
    {
     "output_type": "execute_result",
     "data": {
      "text/plain": "        _STATE  FMONTH        IDATE IMONTH   IDAY    IYEAR  DISPCODE  \\\n85397     13.0     7.0  b'07232018'  b'07'  b'23'  b'2018'    1200.0   \n65177     12.0     2.0  b'02012018'  b'02'  b'01'  b'2018'    1100.0   \n424908    55.0     5.0  b'06062018'  b'06'  b'06'  b'2018'    1100.0   \n436565    72.0    11.0  b'02092019'  b'02'  b'09'  b'2019'    1100.0   \n61014     11.0     1.0  b'01292019'  b'01'  b'29'  b'2019'    1100.0   \n\n                SEQNO          _PSU  CTELENM1  ...  _MAM5022  _RFPAP34  \\\n85397   b'2018006186'  2.018006e+09       NaN  ...       NaN       NaN   \n65177   b'2018001404'  2.018001e+09       1.0  ...       NaN       NaN   \n424908  b'2018003418'  2.018003e+09       NaN  ...       NaN       NaN   \n436565  b'2018003978'  2.018004e+09       NaN  ...       NaN       NaN   \n61014   b'2018001466'  2.018001e+09       1.0  ...       NaN       2.0   \n\n        _RFPSA22  _RFBLDS3  _COL10YR  _HFOB3YR  _FS5YR  _FOBTFS  _CRCREC  \\\n85397        NaN       NaN       NaN       NaN     NaN      NaN      NaN   \n65177        2.0       2.0       2.0       2.0     2.0      2.0      2.0   \n424908       2.0       NaN       NaN       NaN     NaN      NaN      NaN   \n436565       1.0       NaN       NaN       NaN     NaN      NaN      NaN   \n61014        NaN       NaN       NaN       NaN     NaN      NaN      NaN   \n\n        _AIDTST3  \n85397        NaN  \n65177        2.0  \n424908       1.0  \n436565       1.0  \n61014        2.0  \n\n[5 rows x 275 columns]",
      "text/html": "<div>\n<style scoped>\n    .dataframe tbody tr th:only-of-type {\n        vertical-align: middle;\n    }\n\n    .dataframe tbody tr th {\n        vertical-align: top;\n    }\n\n    .dataframe thead th {\n        text-align: right;\n    }\n</style>\n<table border=\"1\" class=\"dataframe\">\n  <thead>\n    <tr style=\"text-align: right;\">\n      <th></th>\n      <th>_STATE</th>\n      <th>FMONTH</th>\n      <th>IDATE</th>\n      <th>IMONTH</th>\n      <th>IDAY</th>\n      <th>IYEAR</th>\n      <th>DISPCODE</th>\n      <th>SEQNO</th>\n      <th>_PSU</th>\n      <th>CTELENM1</th>\n      <th>...</th>\n      <th>_MAM5022</th>\n      <th>_RFPAP34</th>\n      <th>_RFPSA22</th>\n      <th>_RFBLDS3</th>\n      <th>_COL10YR</th>\n      <th>_HFOB3YR</th>\n      <th>_FS5YR</th>\n      <th>_FOBTFS</th>\n      <th>_CRCREC</th>\n      <th>_AIDTST3</th>\n    </tr>\n  </thead>\n  <tbody>\n    <tr>\n      <th>85397</th>\n      <td>13.0</td>\n      <td>7.0</td>\n      <td>b'07232018'</td>\n      <td>b'07'</td>\n      <td>b'23'</td>\n      <td>b'2018'</td>\n      <td>1200.0</td>\n      <td>b'2018006186'</td>\n      <td>2.018006e+09</td>\n      <td>NaN</td>\n      <td>...</td>\n      <td>NaN</td>\n      <td>NaN</td>\n      <td>NaN</td>\n      <td>NaN</td>\n      <td>NaN</td>\n      <td>NaN</td>\n      <td>NaN</td>\n      <td>NaN</td>\n      <td>NaN</td>\n      <td>NaN</td>\n    </tr>\n    <tr>\n      <th>65177</th>\n      <td>12.0</td>\n      <td>2.0</td>\n      <td>b'02012018'</td>\n      <td>b'02'</td>\n      <td>b'01'</td>\n      <td>b'2018'</td>\n      <td>1100.0</td>\n      <td>b'2018001404'</td>\n      <td>2.018001e+09</td>\n      <td>1.0</td>\n      <td>...</td>\n      <td>NaN</td>\n      <td>NaN</td>\n      <td>2.0</td>\n      <td>2.0</td>\n      <td>2.0</td>\n      <td>2.0</td>\n      <td>2.0</td>\n      <td>2.0</td>\n      <td>2.0</td>\n      <td>2.0</td>\n    </tr>\n    <tr>\n      <th>424908</th>\n      <td>55.0</td>\n      <td>5.0</td>\n      <td>b'06062018'</td>\n      <td>b'06'</td>\n      <td>b'06'</td>\n      <td>b'2018'</td>\n      <td>1100.0</td>\n      <td>b'2018003418'</td>\n      <td>2.018003e+09</td>\n      <td>NaN</td>\n      <td>...</td>\n      <td>NaN</td>\n      <td>NaN</td>\n      <td>2.0</td>\n      <td>NaN</td>\n      <td>NaN</td>\n      <td>NaN</td>\n      <td>NaN</td>\n      <td>NaN</td>\n      <td>NaN</td>\n      <td>1.0</td>\n    </tr>\n    <tr>\n      <th>436565</th>\n      <td>72.0</td>\n      <td>11.0</td>\n      <td>b'02092019'</td>\n      <td>b'02'</td>\n      <td>b'09'</td>\n      <td>b'2019'</td>\n      <td>1100.0</td>\n      <td>b'2018003978'</td>\n      <td>2.018004e+09</td>\n      <td>NaN</td>\n      <td>...</td>\n      <td>NaN</td>\n      <td>NaN</td>\n      <td>1.0</td>\n      <td>NaN</td>\n      <td>NaN</td>\n      <td>NaN</td>\n      <td>NaN</td>\n      <td>NaN</td>\n      <td>NaN</td>\n      <td>1.0</td>\n    </tr>\n    <tr>\n      <th>61014</th>\n      <td>11.0</td>\n      <td>1.0</td>\n      <td>b'01292019'</td>\n      <td>b'01'</td>\n      <td>b'29'</td>\n      <td>b'2019'</td>\n      <td>1100.0</td>\n      <td>b'2018001466'</td>\n      <td>2.018001e+09</td>\n      <td>1.0</td>\n      <td>...</td>\n      <td>NaN</td>\n      <td>2.0</td>\n      <td>NaN</td>\n      <td>NaN</td>\n      <td>NaN</td>\n      <td>NaN</td>\n      <td>NaN</td>\n      <td>NaN</td>\n      <td>NaN</td>\n      <td>2.0</td>\n    </tr>\n  </tbody>\n</table>\n<p>5 rows × 275 columns</p>\n</div>"
     },
     "metadata": {},
     "execution_count": 6
    }
   ],
   "source": [
    "df = pd.read_sas('LLCP2018.XPT ', format='xport')\n",
    "# df.dropna(inplace=True)\n",
    "df.sample(5)"
   ]
  },
  {
   "cell_type": "code",
   "execution_count": 77,
   "metadata": {},
   "outputs": [],
   "source": [
    "id_mask = df._STATE == 16.\n",
    "use_mask = df.MARIJAN1 < 77\n",
    "white = df._IMPRACE == 1\n",
    "black = df._IMPRACE == 2\n",
    "response_mask = ~np.isnan(df.MARIJAN1)"
   ]
  },
  {
   "cell_type": "code",
   "execution_count": 35,
   "metadata": {},
   "outputs": [],
   "source": [
    "id_mar_use = df.MARIJAN1[~no_response_mar & use_mask & id_mask]"
   ]
  },
  {
   "cell_type": "code",
   "execution_count": 75,
   "metadata": {},
   "outputs": [],
   "source": [
    "def state_marijuana_use_stats(state_mask, state):\n",
    "\n",
    "    white = df._IMPRACE == 1\n",
    "    black = df._IMPRACE == 2\n",
    "    use_mask = df.MARIJAN1 < 77\n",
    "\n",
    "    bl_tot = df.MARIJAN1[state_mask & black].count()\n",
    "    wh_tot = df.MARIJAN1[state_mask & white].count()\n",
    "    bl_use = df.MARIJAN1[state_mask & black & use_mask].count()\n",
    "    wh_use = df.MARIJAN1[state_mask & white & use_mask].count()\n",
    "\n",
    "    print(f'Percent Black people that use marijuana in {state}: {np.round(bl_use / bl_tot,3)}')\n",
    "    print(f'Percent White people that use marijuana in {state}: {np.round(wh_use / wh_tot,3)}')"
   ]
  },
  {
   "cell_type": "code",
   "execution_count": 76,
   "metadata": {
    "tags": []
   },
   "outputs": [
    {
     "output_type": "stream",
     "name": "stdout",
     "text": "Percent Black people that use marijuana in Idaho: 0.143\nPercent White people that use marijuana in Idaho: 0.075\n"
    }
   ],
   "source": [
    "state_marijuana_use_stats(id_mask, 'Idaho')"
   ]
  },
  {
   "cell_type": "code",
   "execution_count": 80,
   "metadata": {},
   "outputs": [],
   "source": [
    "def marijuana_use_stats():\n",
    "\n",
    "    white = df._IMPRACE == 1\n",
    "    black = df._IMPRACE == 2\n",
    "\n",
    "    bl_tot = df.MARIJAN1[response_mask & black].count()\n",
    "    wh_tot = df.MARIJAN1[response_mask & white].count()\n",
    "    bl_use = df.MARIJAN1[response_mask & black & use_mask].count()\n",
    "    wh_use = df.MARIJAN1[response_mask & white & use_mask].count()\n",
    "\n",
    "    print(f'Percent of Black people that use marijuana: {np.round(bl_use / bl_tot,3)}')\n",
    "    print(f'Percent of White people that use marijuana: {np.round(wh_use / wh_tot,3)}')"
   ]
  },
  {
   "cell_type": "code",
   "execution_count": 81,
   "metadata": {
    "tags": []
   },
   "outputs": [
    {
     "output_type": "stream",
     "name": "stdout",
     "text": "Percent of Black people that use marijuana: 0.081\nPercent of White people that use marijuana: 0.065\n"
    }
   ],
   "source": [
    "marijuana_use_stats()"
   ]
  },
  {
   "cell_type": "code",
   "execution_count": null,
   "metadata": {},
   "outputs": [],
   "source": []
  }
 ],
 "metadata": {
  "language_info": {
   "codemirror_mode": {
    "name": "ipython",
    "version": 3
   },
   "file_extension": ".py",
   "mimetype": "text/x-python",
   "name": "python",
   "nbconvert_exporter": "python",
   "pygments_lexer": "ipython3",
   "version": 3
  },
  "orig_nbformat": 2,
  "kernelspec": {
   "name": "python_defaultSpec_1596174381304",
   "display_name": "Python 3.7.7 64-bit"
  }
 },
 "nbformat": 4,
 "nbformat_minor": 2
}